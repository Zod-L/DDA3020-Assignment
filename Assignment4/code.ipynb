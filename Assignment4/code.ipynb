{
 "cells": [
  {
   "cell_type": "code",
   "execution_count": 99,
   "metadata": {},
   "outputs": [],
   "source": [
    "# Import library\n",
    "import numpy as np\n",
    "import random\n",
    "import matplotlib.pyplot as plt\n",
    "from matplotlib.animation import FuncAnimation\n",
    "from IPython.display import display, clear_output\n",
    "import matplotlib.patches as mpatches\n",
    "\n",
    "\n"
   ]
  },
  {
   "cell_type": "code",
   "execution_count": 100,
   "metadata": {},
   "outputs": [
    {
     "name": "stdout",
     "output_type": "stream",
     "text": [
      "Number of samples: 210\n"
     ]
    }
   ],
   "source": [
    "# Load data\n",
    "data = np.loadtxt(\"seeds_dataset.txt\").transpose()\n",
    "\n",
    "X = data[:7, :] # [7, N]\n",
    "Y = data[7, :] # [N]\n",
    "print(f\"Number of samples: {data.shape[1]}\")"
   ]
  },
  {
   "cell_type": "code",
   "execution_count": 101,
   "metadata": {},
   "outputs": [
    {
     "name": "stdout",
     "output_type": "stream",
     "text": [
      "Eigenvalues are:\n",
      " [1.07419301e+01 2.11931485e+00 7.32794138e-02 1.28261257e-02\n",
      " 2.73513989e-03 1.56297146e-03 2.95142261e-05]\n",
      "Subspace dimensions: 2\n"
     ]
    }
   ],
   "source": [
    "# PCA\n",
    "def pca_reduce(X, K):\n",
    "    # X: [D, N]\n",
    "    _, N = X.shape\n",
    "    miu = X.mean(axis=1, keepdims=True)\n",
    "    cov = 1/N * (X - miu) @ (X - miu).transpose()\n",
    "    U, S, _ = np.linalg.svd(cov)\n",
    "    U = U[:, :K]\n",
    "\n",
    "    return U.transpose() @ (X - miu), S\n",
    "\n",
    "\n",
    "# Obtain PCA for training and testing set\n",
    "K = 2\n",
    "X, S = pca_reduce(X, K)\n",
    "print(f\"Eigenvalues are:\\n {S}\")\n",
    "print(f\"Subspace dimensions: {K}\")\n",
    "\n",
    "\n",
    "\n",
    "# Normalize to 0-1\n",
    "min_val = X.min(1, keepdims=True)\n",
    "max_val = X.max(1, keepdims=True)\n",
    "X = (X - min_val) / (max_val - min_val)\n",
    "\n"
   ]
  },
  {
   "cell_type": "code",
   "execution_count": 102,
   "metadata": {},
   "outputs": [
    {
     "name": "stdout",
     "output_type": "stream",
     "text": [
      "Use index [27, 138, 14] samples to initialize centriods\n",
      "After 6 iterations, k-means converge\n"
     ]
    }
   ],
   "source": [
    "# K-means\n",
    "class k_means:\n",
    "    def __init__(self, init_centriods):\n",
    "        self.centroids = init_centriods.copy() # [K, C]\n",
    "        self.K, self.C = self.centroids.shape\n",
    "        self.show_colors = [\"y\", \"g\", \"b\"]\n",
    "\n",
    "    def calc_dist(self, X):\n",
    "        # X: [K, N]\n",
    "        # centriods: [K, C]\n",
    "        K, N = X.shape\n",
    "        _, C =self.centroids.shape\n",
    "        X = X[:, :, np.newaxis]\n",
    "        X = np.tile(X, (1, 1, C)) # [K, N, C]\n",
    "        centroids = np.tile(self.centroids[:, np.newaxis, :], (1, N, 1)) # [K, N, C]\n",
    "        dist = np.linalg.norm(X - centroids, axis=0) # [N, C]\n",
    "        return dist\n",
    "    \n",
    "\n",
    "\n",
    "    def infer(self, X):\n",
    "        dist = self.calc_dist(X)\n",
    "        return np.argmin(dist, axis=1) + 1\n",
    "    \n",
    "\n",
    "\n",
    "    def fit(self, X):\n",
    "        self.X = X\n",
    "        prev_centroid = np.full(self.centroids.shape, -1)\n",
    "        K, N = X.shape # [K, N]\n",
    "        _, C = self.centroids.shape # [K, C]\n",
    "\n",
    "        iter = 0\n",
    "        while (np.any(prev_centroid != self.centroids)):\n",
    "            # Copy last centroid\n",
    "            prev_centroid = self.centroids.copy()\n",
    "\n",
    "\n",
    "            # Update assignment\n",
    "            r = self.infer(X) # [N]\n",
    "\n",
    "\n",
    "            # Update centriods\n",
    "            for i in range(0, C):\n",
    "                idx = (r == (i+1))\n",
    "                self.centroids[:, i] = X[:, idx].mean(axis=1)\n",
    "            iter += 1\n",
    "\n",
    "\n",
    "\n",
    "        print(f\"After {iter} iterations, k-means converge\")\n",
    "        \n",
    "\n",
    "    \n",
    "    \n",
    "\n",
    "    def silhouette_coefficient(self, X):\n",
    "        # X: [K, N] \n",
    "        K,N = X.shape\n",
    "        dist = self.calc_dist(X) #[N, C]\n",
    "        first_idx = np.argmin(dist, axis=1) #[N]\n",
    "        dist[np.arange(N), first_idx] = 1e10\n",
    "        second_idx = np.argmin(dist, axis=1)\n",
    "        tmp1, tmp2 = np.meshgrid(first_idx, first_idx)\n",
    "        tmp3, _ = np.meshgrid(second_idx, second_idx)\n",
    "        first_first = (tmp1 == tmp2).astype(np.int32)\n",
    "        second_first = (tmp3 == tmp2).astype(np.int32)\n",
    "        x1 = np.tile(X.transpose()[:, np.newaxis, :], (1, N, 1))\n",
    "        x2 = np.tile(X.transpose()[np.newaxis, :, :], (N, 1, 1))\n",
    "        dist_matrix = np.linalg.norm(x1 - x2, axis=-1)\n",
    "\n",
    "         \n",
    "        A = (first_first * dist_matrix).sum(axis=1) / (first_first.sum(axis=1) - 1)\n",
    "        B = (second_first * dist_matrix).sum(axis=1) / (second_first.sum(axis=1))\n",
    "        res = (B - A) / np.maximum(A, B)\n",
    "\n",
    "\n",
    "        \n",
    "        return res.mean()\n",
    "    \n",
    "\n",
    "    def rand_idx(self, X, Y):\n",
    "        K, N = X.shape\n",
    "\n",
    "        # The i-j entry means whether i,j has the same assignment\n",
    "        tmp1, tmp2 = np.meshgrid(Y, Y)\n",
    "        pair = (tmp1 == tmp2)\n",
    "        pred_Y = self.infer(X)\n",
    "        tmp1, tmp2 = np.meshgrid(pred_Y, pred_Y)\n",
    "        pred_pair = (tmp1 == tmp2)\n",
    "\n",
    "        a = (np.logical_and(pair, pred_pair).sum() - N) / 2\n",
    "        b = np.logical_and(np.logical_not(pair), np.logical_not(pred_pair)).sum() / 2\n",
    "        c = np.logical_and(pair, np.logical_not(pred_pair)).sum() / 2\n",
    "        d = np.logical_and(np.logical_not(pair), pred_pair).sum() / 2\n",
    "        return (a + b) / (a + b + c + d)\n",
    "    \n",
    "    def draw_fit(self):\n",
    "        fig = plt.figure(figsize=(6, 6))\n",
    "        plt.title(\"Clustering visualization\")\n",
    "        plt.legend(handles=[mpatches.Patch(color='yellow', label=\"Cluster1\"), \n",
    "                    mpatches.Patch(color='green', label=\"Cluster2\"),\n",
    "                    mpatches.Patch(color='blue', label=\"Cluster3\")])\n",
    "        all_idx = self.infer(self.X)\n",
    "        centriods = self.centroids\n",
    "        for i in range(1, self.C+1):\n",
    "            idx = (all_idx == i)\n",
    "            plt.plot(X[0, idx], X[1, idx], f\"{self.show_colors[i-1]}o\", markersize=2)\n",
    "            plt.plot(centriods[0, :], centriods[1, :], f\"rx\", markersize=8)\n",
    "        plt.show(fig)\n",
    "        plt.close()\n",
    "\n",
    "\n",
    "\n",
    "\n",
    "    \n",
    "idx = random.sample(range(X.shape[1]), 3)\n",
    "print(f\"Use index {idx} samples to initialize centriods\")\n",
    "model = k_means(X[:, idx])\n",
    "model.fit(X)\n",
    "\n",
    "        "
   ]
  },
  {
   "cell_type": "code",
   "execution_count": 103,
   "metadata": {},
   "outputs": [
    {
     "name": "stdout",
     "output_type": "stream",
     "text": [
      "The silhouette coefficient of the model is 0.46046235809126435\n",
      "The rand index of the model is 0.8833447254499887\n"
     ]
    }
   ],
   "source": [
    "# Caclulate metric\n",
    "sc = model.silhouette_coefficient(X)\n",
    "ri = model.rand_idx(X, Y)\n",
    "print(f\"The silhouette coefficient of the model is {sc}\")\n",
    "print(f\"The rand index of the model is {ri}\")"
   ]
  },
  {
   "cell_type": "code",
   "execution_count": 104,
   "metadata": {},
   "outputs": [
    {
     "data": {
      "image/png": "[encoded data removed]",
      "text/plain": [
       "<Figure size 432x432 with 1 Axes>"
      ]
     },
     "metadata": {
      "needs_background": "light"
     },
     "output_type": "display_data"
    }
   ],
   "source": [
    "# Draw fitting\n",
    "model.draw_fit()"
   ]
  }
 ],
 "metadata": {
  "kernelspec": {
   "display_name": "base",
   "language": "python",
   "name": "python3"
  },
  "language_info": {
   "codemirror_mode": {
    "name": "ipython",
    "version": 3
   },
   "file_extension": ".py",
   "mimetype": "text/x-python",
   "name": "python",
   "nbconvert_exporter": "python",
   "pygments_lexer": "ipython3",
   "version": "3.9.12"
  },
  "orig_nbformat": 4
 },
 "nbformat": 4,
 "nbformat_minor": 2
}
